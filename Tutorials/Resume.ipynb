{
 "cells": [
  {
   "cell_type": "markdown",
   "metadata": {},
   "source": [
    "https://www.wps.com/office-free\n",
    "\n",
    "\n",
    "http://billianaga.000webhostapp.com\n",
    "\n",
    "\n",
    "http://testing-ground.scraping.pro/login?mode=welcome\n",
    "\n",
    "\n",
    "\n",
    "https://www.whoishostingthis.com/hosting-reviews/\n",
    "\n",
    "\n",
    "https://www.thesitewizard.com/webhosting/fine-print-resource-usage-limits.shtml\n",
    "\n",
    "\n",
    "\n",
    "\n",
    "\n",
    "\n"
   ]
  },
  {
   "cell_type": "code",
   "execution_count": null,
   "metadata": {
    "collapsed": true
   },
   "outputs": [],
   "source": []
  }
 ],
 "metadata": {
  "kernelspec": {
   "display_name": "Python 2",
   "language": "python",
   "name": "python2"
  },
  "language_info": {
   "codemirror_mode": {
    "name": "ipython",
    "version": 2
   },
   "file_extension": ".py",
   "mimetype": "text/x-python",
   "name": "python",
   "nbconvert_exporter": "python",
   "pygments_lexer": "ipython2",
   "version": "2.7.13"
  }
 },
 "nbformat": 4,
 "nbformat_minor": 2
}
