{
 "cells": [
  {
   "cell_type": "markdown",
   "metadata": {
    "collapsed": true
   },
   "source": [
    "# Django Installation\n",
    "\n",
    "[Django 1.11 Tutorial](https://docs.djangoproject.com/en/1.11/intro/tutorial01/)\n",
    "\n",
    "    > activate py3Env\n",
    "    \n",
    "    > conda install django\n",
    "    \n",
    "    > python -m django --version\n",
    "    \n",
    "    "
   ]
  },
  {
   "cell_type": "markdown",
   "metadata": {},
   "source": [
    "----\n",
    "\n",
    "# Selenium Installation\n",
    "\n",
    "\n",
    "    > activate py3Env\n",
    "    \n",
    "    > pip install selenium\n",
    "    \n",
    "    "
   ]
  },
  {
   "cell_type": "markdown",
   "metadata": {},
   "source": [
    "----\n",
    "\n",
    "# Gecko Driver Installation\n",
    "\n",
    "- Download Gecko driver, unzip and place in system folder, such as: C:\\WebDriver, and add to \n",
    "\n",
    "        User Environment Variables PATH\n",
    "\n",
    "\n",
    "\n",
    "- To check geckodriver version:\n",
    "\n",
    "        > geckodriver --version\n",
    "\n"
   ]
  },
  {
   "cell_type": "code",
   "execution_count": 1,
   "metadata": {
    "collapsed": true
   },
   "outputs": [],
   "source": [
    "from selenium import webdriver\n",
    "browser = webdriver.Firefox()\n",
    "browser.get('http://inventwithpython.com')\n",
    "#assert 'Django' in browser.title"
   ]
  },
  {
   "cell_type": "markdown",
   "metadata": {
    "collapsed": true
   },
   "source": [
    "----\n",
    "\n",
    "# Start Django engine\n",
    "\n",
    "- Create project\n",
    "\n",
    "        start Anaconda prompt    \n",
    "        > activate pyeEnv\n",
    "        > cd python/Django\n",
    "        > django-admin.py startproject superlists\n",
    "        > cd superlists\n",
    "        > python manage.py runserver\n",
    "    \n",
    "    \n",
    "- Run Server\n",
    "\n",
    "        start Anaconda prompt    \n",
    "        > activate py3Env\n",
    "        > cd python/Django/superlists\n",
    "        > python manage.py runserver\n",
    "    \n",
    "    "
   ]
  },
  {
   "cell_type": "markdown",
   "metadata": {},
   "source": [
    "----\n",
    "\n",
    "# Console Output\n",
    "\n",
    "\n",
    "    (C:\\Users\\bilsto1\\Anaconda2) C:\\Users\\bilsto1>activate py3Env\n",
    "\n",
    "    (py3Env) C:\\Users\\bilsto1>cd python\n",
    "\n",
    "    (py3Env) C:\\Users\\bilsto1\\python>cd django\n",
    "\n",
    "    (py3Env) C:\\Users\\bilsto1\\python\\Django>django-admin.py startproject superlists\n",
    "\n",
    "    (py3Env) C:\\Users\\bilsto1\\python\\Django>cd superlists\n",
    "\n",
    "    (py3Env) C:\\Users\\bilsto1\\python\\Django\\superlists>python manage.py runserver\n",
    "    Performing system checks...\n",
    "\n",
    "    System check identified no issues (0 silenced).\n",
    "\n",
    "    You have 13 unapplied migration(s). Your project may not work properly until you\n",
    "     apply the migrations for app(s): admin, auth, contenttypes, sessions.\n",
    "    Run 'python manage.py migrate' to apply them.\n",
    "    July 13, 2017 - 15:48:27\n",
    "    Django version 1.11.3, using settings 'superlists.settings'\n",
    "    Starting development server at http://127.0.0.1:8000/\n",
    "    Quit the server with CTRL-BREAK.\n"
   ]
  },
  {
   "cell_type": "markdown",
   "metadata": {},
   "source": [
    "----\n",
    "\n",
    "# Start Django Server from single line/command prompt/Jupyter/batch file\n",
    "\n",
    "[Run Python script from Virtual Environment](https://stackoverflow.com/questions/30927567/a-python-script-that-activates-the-virtualenv-and-then-runs-another-python-scrip)\n",
    "\n",
    "C:\\Users\\Admin\\Desktop\\venv\\Scripts\\bin\\python.exe manage.py runserver\n",
    "\n",
    "C:\\Users\\bilsto1\\Anaconda2\\envs\\py3Env\\Scripts\\activate py3Env\n",
    "\n",
    "  start Anaconda prompt    \n",
    "  > activate py3Env\n",
    "  > cd python/Django/superlists\n",
    "  > python manage.py runserver\n",
    "  \n",
    "  \n",
    "[start Djungo Server batch file](https://stackoverflow.com/questions/3027160/how-to-code-a-batch-file-to-automate-django-web-server-start)\n",
    "\n",
    "        cd <location of your django project>\n",
    "        <location of python.exe> manage.py runserver\n",
    "  \n",
    "  "
   ]
  },
  {
   "cell_type": "markdown",
   "metadata": {},
   "source": [
    "----\n",
    "\n",
    "# new topic"
   ]
  },
  {
   "cell_type": "code",
   "execution_count": null,
   "metadata": {
    "collapsed": true
   },
   "outputs": [],
   "source": []
  },
  {
   "cell_type": "code",
   "execution_count": null,
   "metadata": {
    "collapsed": true
   },
   "outputs": [],
   "source": []
  },
  {
   "cell_type": "code",
   "execution_count": null,
   "metadata": {
    "collapsed": true
   },
   "outputs": [],
   "source": []
  },
  {
   "cell_type": "code",
   "execution_count": null,
   "metadata": {
    "collapsed": true
   },
   "outputs": [],
   "source": []
  },
  {
   "cell_type": "code",
   "execution_count": null,
   "metadata": {
    "collapsed": true
   },
   "outputs": [],
   "source": []
  },
  {
   "cell_type": "code",
   "execution_count": null,
   "metadata": {
    "collapsed": true
   },
   "outputs": [],
   "source": []
  },
  {
   "cell_type": "code",
   "execution_count": null,
   "metadata": {
    "collapsed": true
   },
   "outputs": [],
   "source": []
  },
  {
   "cell_type": "code",
   "execution_count": null,
   "metadata": {
    "collapsed": true
   },
   "outputs": [],
   "source": []
  },
  {
   "cell_type": "code",
   "execution_count": null,
   "metadata": {
    "collapsed": true
   },
   "outputs": [],
   "source": []
  }
 ],
 "metadata": {
  "kernelspec": {
   "display_name": "Python3 Selenium",
   "language": "python",
   "name": "py3env"
  },
  "language_info": {
   "codemirror_mode": {
    "name": "ipython",
    "version": 3
   },
   "file_extension": ".py",
   "mimetype": "text/x-python",
   "name": "python",
   "nbconvert_exporter": "python",
   "pygments_lexer": "ipython3",
   "version": "3.6.1"
  }
 },
 "nbformat": 4,
 "nbformat_minor": 2
}
