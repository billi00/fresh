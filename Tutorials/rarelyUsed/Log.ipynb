{
 "cells": [
  {
   "cell_type": "markdown",
   "metadata": {},
   "source": [
    "# Running Protractor Tutorial Successfully\n",
    "\n",
    "\n",
    "###### Location: C:\\Users\\bilsto1\\Automation\\Protractor\\tutorial\n",
    "\n",
    "\n",
    "[Use URL for Demo test application](http://juliemr.github.io/protractor-demo/)\n",
    "\n",
    "[Create Protractor tests from scratch](http://www.protractortest.org/#/tutorial)\n",
    "\n",
    "\n",
    "### Setup\n",
    "\n",
    "1. Use npm to install Protractor globally\n",
    "2. The webdriver-manager is a helper tool to easily get an instance of a Selenium Server running. Download the necessary binaries.\n",
    "3. Start up a Selenium Server. Your Protractor test will send requests to this server to control a local browser. Leave this server running throughout the tutorial. You can see information about the status of the server at http://localhost:4444/wd/hub.\n",
    "\n",
    "       npm install -g protractor\n",
    "       webdriver-manager update\n",
    "       webdriver-manager start\n",
    "\n",
    "\n",
    "### Write tests\n",
    "  \n",
    "\n",
    "1. Create test folder\n",
    "2. Create spec.js file: open browser with test app url and get title. 'browser' is a global created by Protractor, which is used for browser-level commands such as navigation with browser.get.\n",
    "3. Create config.js file. It tells Protractor where your test files (specs) are, and where to talk to your Selenium Server (seleniumAddress). Chrome is the default browser.\n",
    "\n",
    "       // conf.js\n",
    "       exports.config = {\n",
    "         framework: 'jasmine',\n",
    "         seleniumAddress: 'http://localhost:4444/wd/hub',\n",
    "         specs: ['spec.js']\n",
    "       }\n",
    "\n",
    "\n",
    "\n",
    "### Run e2e test\n",
    "\n",
    "1. You should see a Chrome browser window open up and navigate to the Calculator, then close itself\n",
    "\n",
    "\n",
    "       protractor test/conf.js --verbose\n",
    "\n",
    "\n",
    "\n",
    "### Bonus\n",
    "\n",
    "Get ChromeDriver (or webdriver) set up, run `./node_modules/.bin/webdriver-manager update`.\n",
    "\n",
    "Start the test application server with `node app/expressserver.js`\n",
    "\n",
    "Run the tests with `node_modules/.bin/protractor test/conf.js`\n",
    "\n",
    "create scripts to run: `npm start`, `npm test`\n",
    "\n",
    "\n",
    "\n"
   ]
  },
  {
   "cell_type": "code",
   "execution_count": null,
   "metadata": {
    "collapsed": true
   },
   "outputs": [],
   "source": []
  }
 ],
 "metadata": {
  "kernelspec": {
   "display_name": "Javascript (Node.js)",
   "language": "javascript",
   "name": "javascript"
  },
  "language_info": {
   "file_extension": ".js",
   "mimetype": "application/javascript",
   "name": "javascript",
   "version": "6.11.2"
  }
 },
 "nbformat": 4,
 "nbformat_minor": 2
}
