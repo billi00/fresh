{
 "cells": [
  {
   "cell_type": "markdown",
   "metadata": {},
   "source": [
    "# Ionic CLI - No way to prevent update prompt\n",
    "\n",
    "- we decided to merge core plugins back into the main ionic CLI package\n",
    "\n",
    "https://github.com/ionic-team/ionic-cli/issues/2517\n",
    "\n"
   ]
  },
  {
   "cell_type": "markdown",
   "metadata": {},
   "source": [
    "# Ionic Unit testing example - cannot select elements, google \"exploring ionic locators\"\n",
    "\n",
    "https://github.com/ionic-team/ionic-unit-testing-example/issues/28\n",
    "\n",
    "\n",
    "\n"
   ]
  },
  {
   "cell_type": "markdown",
   "metadata": {},
   "source": [
    "# Ionic + Testing Blogs\n",
    "\n",
    "\n",
    "- http://lathonez.com/2017/ionic-2-unit-testing/\n",
    "\n",
    "\n",
    "- https://github.com/lathonez/clicker\n",
    "\n",
    "\n",
    "- https://blog.thecodecampus.de/setup-ionic-2-electron-typescript-angular2/\n",
    "\n",
    "\n",
    "\n",
    "# Ionic Docs\n",
    "\n",
    "- https://ionicframework.com/docs/components/#card-advanced-social\n",
    "\n"
   ]
  },
  {
   "cell_type": "markdown",
   "metadata": {},
   "source": [
    "#"
   ]
  },
  {
   "cell_type": "markdown",
   "metadata": {},
   "source": [
    "#"
   ]
  },
  {
   "cell_type": "markdown",
   "metadata": {},
   "source": [
    "#"
   ]
  },
  {
   "cell_type": "markdown",
   "metadata": {},
   "source": [
    "#"
   ]
  },
  {
   "cell_type": "markdown",
   "metadata": {},
   "source": [
    "#"
   ]
  },
  {
   "cell_type": "markdown",
   "metadata": {},
   "source": [
    "# Bootstrap and Ionic\n",
    "\n",
    "- https://forum.ionicframework.com/t/using-bootstrap-in-ionic-app/76174/6"
   ]
  },
  {
   "cell_type": "code",
   "execution_count": null,
   "metadata": {
    "collapsed": true
   },
   "outputs": [],
   "source": []
  }
 ],
 "metadata": {
  "kernelspec": {
   "display_name": "Javascript (Node.js)",
   "language": "javascript",
   "name": "javascript"
  },
  "language_info": {
   "file_extension": ".js",
   "mimetype": "application/javascript",
   "name": "javascript",
   "version": "6.11.2"
  }
 },
 "nbformat": 4,
 "nbformat_minor": 2
}
