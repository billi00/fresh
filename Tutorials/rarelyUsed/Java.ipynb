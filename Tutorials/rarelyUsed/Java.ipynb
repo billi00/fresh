{
 "cells": [
  {
   "cell_type": "markdown",
   "metadata": {},
   "source": [
    "# Java Tutorial\n",
    "\n",
    "###### Slides for start testing with Selenium & Java\n",
    "\n",
    "\n",
    "https://www.slideshare.net/eviltester/checklist-how-to-install-firefox-geckodriver-and-chromedriver-on-windows-and-mac-for-selenium-webdriver-with-java\n",
    "\n"
   ]
  },
  {
   "cell_type": "code",
   "execution_count": null,
   "metadata": {
    "collapsed": true
   },
   "outputs": [],
   "source": []
  }
 ],
 "metadata": {
  "kernelspec": {
   "display_name": "Python3 Env",
   "language": "python",
   "name": "py3env"
  },
  "language_info": {
   "codemirror_mode": {
    "name": "ipython",
    "version": 3
   },
   "file_extension": ".py",
   "mimetype": "text/x-python",
   "name": "python",
   "nbconvert_exporter": "python",
   "pygments_lexer": "ipython3",
   "version": "3.6.1"
  }
 },
 "nbformat": 4,
 "nbformat_minor": 2
}
