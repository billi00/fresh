{
 "cells": [
  {
   "cell_type": "markdown",
   "metadata": {},
   "source": [
    "\n",
    "# Gulp\n",
    "\n",
    "\n",
    "### What is gulp?\n",
    "\n",
    "•Automation - gulp is a toolkit that helps you automate painful or time-consuming tasks in your development workflow.\n",
    "\n",
    "•Platform-agnostic - Integrations are built into all major IDEs and people are using gulp with PHP, .NET, Node.js, Java, and other platforms.\n",
    "\n",
    "•Strong Ecosystem - Use npm modules to do anything you want + over 2000 curated plugins for streaming file transformations\n",
    "\n",
    "•Simple - By providing only a minimal API surface, gulp is easy to learn and simple to use\n",
    "\n",
    "\n",
    "\n",
    "### gulp installation\n",
    "\n",
    "[Proper gulp installation with cli](https://github.com/gulpjs/gulp/blob/master/docs/getting-started.md)\n",
    "\n",
    "\n",
    "\n",
    "### A Standalone CLI\n",
    "\n",
    "- Traditionally, you’ve run your tasks using the gulp command installed by the main gulp package on npm. However, we’ve moved away from coupling the CLI and library together. The CLI now lives in the gulp-cli package.\n",
    "\n",
    "- https://medium.com/gulpjs/gulp-sips-command-line-interface-e53411d4467\n",
    "\n",
    "\n",
    "\n",
    "# gulp-protractor-qa\n",
    "\n",
    "- https://www.npmjs.com/package/gulp-protractor-qa\n",
    "\n",
    "\n",
    "\n"
   ]
  },
  {
   "cell_type": "markdown",
   "metadata": {},
   "source": [
    "# Jenkins, run test remotely\n",
    "\n",
    "\n",
    "keywords: run protractor remotely\n",
    "\n",
    "https://stackoverflow.com/questions/28039860/run-protractor-test-remotely\n",
    "\n",
    "\n",
    "\n",
    "\n",
    "# Jenkins + Selenium Server\n",
    "\n",
    "- https://stackoverflow.com/questions/39353859/selenium-webdriver-exits-with-error-code-135\n",
    "\n",
    "\n",
    "\n",
    "\t\n",
    "- Before running your protractor test,you must start the selenium server using below command.webdriver-manager start. After starting the server your tests will execute without any errors. If you dont want to start selenium server manually,then just remove seleniumAddress:http://localhost:4444/wd/hub property from your conf.js.\n",
    "\n",
    "- What surprises me is that when I launch webdriver-manager start in Jenkins, I get a success message (Selenium Server is up and running) then the process freezes forever. You need to use nohup webdriver-manager start. This is because you are starting selenium server which will not end until you stop the process. So to avoid this you need to start selenium server as a background process.\n",
    "  \t \t\n",
    "- Unfortunately, in Jenkins Pipeline, I get the very same behaviour. I'll try to parallelize the tasks.\n",
    "\n"
   ]
  },
  {
   "cell_type": "markdown",
   "metadata": {},
   "source": [
    "# Protractor Configuration\n",
    "\n",
    "- https://github.com/angular/protractor/issues/2941\n",
    "\n"
   ]
  },
  {
   "cell_type": "code",
   "execution_count": null,
   "metadata": {
    "collapsed": true
   },
   "outputs": [],
   "source": []
  }
 ],
 "metadata": {
  "kernelspec": {
   "display_name": "Javascript (Node.js)",
   "language": "javascript",
   "name": "javascript"
  },
  "language_info": {
   "file_extension": ".js",
   "mimetype": "application/javascript",
   "name": "javascript",
   "version": "6.11.2"
  }
 },
 "nbformat": 4,
 "nbformat_minor": 2
}
