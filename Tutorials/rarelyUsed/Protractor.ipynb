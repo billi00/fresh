{
 "cells": [
  {
   "cell_type": "markdown",
   "metadata": {},
   "source": [
    "# Slides by Ramon Victor\n",
    "\n",
    "- http://ramonvictor.github.io/protractor/slides/#\n",
    "\n",
    "\n",
    "\n"
   ]
  },
  {
   "cell_type": "markdown",
   "metadata": {},
   "source": [
    "# Official Protractor docs\n",
    "\n",
    "\n",
    "- [Official GitHub Protector Locators list](https://github.com/angular/protractor/blob/master/docs/locators.md)\n",
    "\n",
    "\n",
    "- [Official GitHub Angular Protractor docs](https://github.com/angular/protractor/tree/master/docs)\n",
    "\n",
    "\n",
    "- [Official server setup](https://github.com/angular/protractor/blob/master/docs/server-setup.md)\n",
    "\n",
    "\n",
    "\n",
    "\n",
    "# Newly Discovered Videos, integrate with Jasmine, Cucumber, Mocha\n",
    "\n",
    "\n",
    "\n",
    "- [Way 2 Automation](http://www.way2automation.com/protractor/protractor-tutorials/protractor-angularjs-training.html)\n",
    "\n",
    "\n",
    "\n",
    "- [Way 2 Automation](http://courses.way2automation.com/courses/angularjs-protractor-tutorial/lectures/595424)\n",
    "\n",
    "\n",
    "\n",
    "\n",
    "- [ItsTechMode - Protractor E2E Testing : Locators in Protractor(Selenium)- Part 3](https://www.youtube.com/watch?v=kle3J9BBk7k)\n",
    "\n",
    "\n",
    "\n",
    "\n",
    "- [Protractor AngularJS Testing Framework Quick Demo - Khaja MD](https://www.youtube.com/watch?v=bMnCEr980MY)\n",
    "\n",
    "\n",
    "# Blog Tutorial\n",
    "\n",
    "- https://docs.angularjs.org/tutorial\n",
    "\n",
    "- https://www.guru99.com/end-to-end-testing.html\n",
    "\n",
    "\n",
    "\n",
    "\n"
   ]
  },
  {
   "cell_type": "markdown",
   "metadata": {},
   "source": [
    "# Protractor Issues\n",
    "\n",
    "\n",
    "- [ng-binding](https://stackoverflow.com/questions/24807702/angularjs-protractor-finding-an-element-on-a-page-using-ng-click-binding)\n",
    " \n",
    "- The nice thing about this solution is that it works for elements that are not defined as an HTML < button>. In my case, I'm working with an element that's a < span> which has a btn class. Lloyd Banks is right about by.buttonText() in cases where you truly have a < button> element. – Ken Palmer Dec 1 '15 at 13:56  \n",
    "\n",
    "\n",
    "- [click on icon](https://stackoverflow.com/questions/37225676/click-into-an-icon-isnt-working-on-protractor)\n",
    "\n",
    "\n",
    "# Protractor Config File\n",
    "\n",
    "\n",
    "https://github.com/angular/protractor/blob/master/lib/config.ts\n",
    "\n",
    "\n",
    "# Protractor Locators\n",
    "\n",
    "https://github.com/angular/protractor/blob/master/docs/locators.md\n",
    "\n",
    "\n",
    "https://github.com/angular/protractor/blob/master/lib/locators.ts\n",
    "\n",
    "\n",
    "# Protractor APIs\n",
    "\n",
    "google \"protractor css\"\n",
    "\n",
    "- https://gist.github.com/javierarques/0c4c817d6c77b0877fda\n",
    "\n"
   ]
  },
  {
   "cell_type": "markdown",
   "metadata": {},
   "source": [
    "# AngularJS\n",
    "\n",
    "- Code quickly with Sublime Text: https://dzone.com/articles/angularjs-how-code-quickly\n",
    "\n",
    "- IDEs: https://angular.io/resources\n",
    "\n",
    "- Development Framework: https://blog.thecodecampus.de/setup-ionic-2-electron-typescript-angular2/\n",
    "\n",
    "https://blog.thecodecampus.de/\n",
    "\n",
    "\n",
    "\n",
    "\n",
    "\n",
    "        "
   ]
  },
  {
   "cell_type": "markdown",
   "metadata": {},
   "source": [
    "# Protractor for Angular\n",
    "\n",
    "http://www.webdriverjs.com/protractor-vs-webdriverio-vs-nightwatch/\n",
    "\n",
    "\n",
    "- Protractor is the only automation tool which has inbuilt support for AngularJS element identification strategies. Better to go with protractor if the application is developed using AngularJS.\n",
    "- It has support for different unit test frameworks like (Jasmine, Mocha, Cucumber etc..)\n",
    "- Good reporting mechanism (html, xml etc..)\n",
    "- Compatible with Continuous integration\n",
    "- TypeScript support is available which will help Angular 2 developers to write unit tests very easily.\n",
    "\n",
    "\n",
    "# Protractor - Easy Automated Black Box Testing\n",
    "\n",
    "https://www.linkedin.com/pulse/black-box-testing-gives-you-confidence-jim-lynch\n",
    "\n",
    "\n",
    "\n",
    "\n",
    "# Why Use Protractor -> CI\n",
    "\n",
    "http://blog.smaato.com/automated-end-to-end-testing-with-protractor-docker-jenkins\n",
    "\n",
    "\n",
    "Protractor is an end-to-end test framework specifically for AngularJS apps. It was built by Google and released to open source. Protractor is built on top of WebDriverJS and includes important improvements tailored for AngularJS apps. We decided to use Protractor for the following reasons:\n",
    "\n",
    "###### You don’t need to add waits or sleeps to your test.\n",
    "Protractor can communicate with your AngularJS app automatically and execute the next step in your test the moment the webpage finishes pending tasks, so you don’t have to worry about waiting for your test and webpage to sync.\n",
    "\n",
    "###### It supports Angular-specific locator strategies.\n",
    "(e.g., binding, model, repeater) but also native WebDriver locator strategies (e.g., ID, CSS selector, XPath). This allows you to test Angular-specific elements without any setup effort on your part.\n",
    "\n",
    "###### It is easy to set up page objects. \n",
    "Protractor does not execute WebDriver commands until an action is needed (e.g., get, sendKeys, click). This way you can set up page objects so that tests can manipulate page elements without touching the HTML.\n",
    "\n",
    "###### It uses Jasmine\n",
    "the framework used to write AngularJS unit tests, and Javascript, the same language used to write AngularJS apps.2\n",
    "\n",
    "\n",
    "\n",
    "\n",
    "\n",
    "# Protractor for Ionic UnitTest & E2E\n",
    "\n",
    "- https://github.com/ionic-team/ionic-unit-testing-example\n",
    "\n",
    "- [Ionic App Testing](http://blog.ionic.io/basic-unit-testing-in-ionic/)\n",
    "\n",
    "\n",
    "\n"
   ]
  },
  {
   "cell_type": "markdown",
   "metadata": {},
   "source": [
    "# Ionic Testing\n",
    "\n",
    "\n",
    "\n",
    "https://blog.thecodecampus.de/setup-ionic-2-electron-typescript-angular2/\n",
    "\n",
    "\n",
    "- start from scratch: http://ordina-jworks.github.io/ionic/2016/04/07/Ionic-Protractor.html\n",
    "\n",
    "\n",
    "###### - MaxLynch\n",
    "\n",
    "- Basic UnitTest Ionic: http://blog.ionic.io/basic-unit-testing-in-ionic/\n",
    "\n",
    "\n",
    "\n",
    "###### - Josh Morony\n",
    "\n",
    "- Testing Tutorial: https://www.joshmorony.com/test-driven-development-in-ionic-2-an-introduction-to-tdd/\n",
    "- Josh e2e test: https://www.joshmorony.com/e2e-end-to-end-testing-in-ionic-2-structuring-tests-with-page-objects/\n",
    "- Josh UnitTest: https://www.joshmorony.com/how-to-unit-test-an-ionic-2-application/\n",
    "- Learning Ionic: https://www.joshmorony.com/building-mobile-apps-with-ionic-2/\n",
    "- YouTube uploads from Joshua: https://www.youtube.com/playlist?list=UUbVZdLngJH6KOJvpAOO3qTw\n",
    "- Testing Videos: https://www.joshmorony.com/?s=testing\n",
    "\n",
    "\n",
    "\n",
    "###### - Lathonez\n",
    "\n",
    "- Lathonez: http://lathonez.com/2017/ionic-2-unit-testing/\n",
    "- Clicker: https://github.com/lathonez/clicker\n",
    "\n",
    "\n",
    "###### - Official\n",
    "\n",
    "- Official Example: https://github.com/ionic-team/ionic-unit-testing-example\n",
    "\n",
    "\n",
    "\n"
   ]
  },
  {
   "cell_type": "markdown",
   "metadata": {
    "collapsed": true
   },
   "source": [
    "# Ionic App tested with Jasmine and Protractor - step by step\n",
    "\n",
    "- https://gonehybrid.com/how-to-write-automated-tests-for-your-ionic-app-part-1/\n",
    "- https://gonehybrid.com/how-to-write-automated-tests-for-your-ionic-app-part-2/\n",
    "- https://gonehybrid.com/how-to-write-automated-tests-for-your-ionic-app-part-3/\n",
    "\n",
    "Another Ionic Protectron Blog\n",
    "- http://learn.ionicframework.com/formulas/Protractor/\n",
    "\n",
    "- Apache Cordova vs Ionic: https://stackoverflow.com/questions/28254096/what-is-the-difference-between-apache-cordova-and-ionic\n",
    "\n",
    "\n",
    "\n",
    "\n",
    "\n",
    "\n",
    "# Ionic Apps for testing\n",
    "\n",
    "- Build Ionic App with Electron: https://blog.thecodecampus.de/setup-ionic-2-electron-typescript-angular2/\n",
    "\n",
    "- Clicker: https://github.com/lathonez/clicker\n",
    "\n",
    "\n",
    "\n",
    "\n"
   ]
  },
  {
   "cell_type": "markdown",
   "metadata": {
    "collapsed": true
   },
   "source": [
    "# Karma\n",
    "\n",
    "\n",
    "https://stackoverflow.com/questions/17070522/can-protractor-and-karma-be-used-together\n",
    "\n",
    "http://karma-runner.github.io/0.10/intro/faq.html\n",
    "\n",
    "\n",
    "###### Can I use Karma to do end to end testing ? \n",
    "- Karma has primarily been designed for low level (unit) testing. If it's an AngularJS app, you can use Karma with karma-ng-scenario plugin, however we recommend Protractor for high level testing. \n",
    "\n",
    "\n",
    "\n",
    "# Unit test vs E2E test\n",
    "\n",
    "\n",
    "https://stackoverflow.com/questions/442619/unit-tests-by-a-qa-engineer\n",
    "\n",
    "- QA testing validates functionality;\n",
    "- Unit testing validates design.\n",
    "- That is, the outer view contrasted with the inner view of the product.\n",
    "\n",
    "\n"
   ]
  },
  {
   "cell_type": "markdown",
   "metadata": {},
   "source": [
    "----\n",
    "\n",
    "----\n"
   ]
  },
  {
   "cell_type": "markdown",
   "metadata": {},
   "source": [
    "# Protractor DEMO, FAQ, APP @ GitHub\n",
    "\n",
    "- DEMO Julie: https://github.com/juliemr/protractor-demo\n",
    "\n",
    "\n",
    "- FAQ: https://github.com/angular/protractor/blob/master/docs/faq.md\n",
    "    \n",
    "    \n",
    "- SuperCalculator APP: http://juliemr.github.io/protractor-demo/    \n",
    "    \n",
    "    \n",
    "\n",
    "\n",
    "\n",
    "### Angular bootcamp\n",
    "\n",
    "- Blogs: https://blog.thecodecampus.de/category/angular2/\n",
    "\n",
    "- Example: https://blog.thecodecampus.de/setup-ionic-2-electron-typescript-angular2/\n",
    "\n",
    "\n",
    "\n",
    "- Blogs: https://coryrylan.com/tags#angular\n",
    "\n",
    "- Complicated example: https://coryrylan.com/blog/introduction-to-e2e-testing-with-the-angular-cli-and-protractor\n",
    "\n",
    "- https://github.com/coryrylan/ng-pokedex\n",
    "\n",
    "- https://coryrylan.com/blog/css-encapsulation-with-angular-components\n",
    "\n"
   ]
  },
  {
   "cell_type": "markdown",
   "metadata": {},
   "source": [
    "# Protractor Documentation\n",
    "\n",
    "- Protractor Documentation: http://www.protractortest.org/#/toc\n",
    "\n",
    "\n",
    "\n",
    "# Protractor Tutorials\n",
    "\n",
    "\n",
    "###### Protractor for Beginners Part1 - Hannah, also Angular1, but POM and lottsa to learn\n",
    "- http://blog.scottlogic.com/2015/11/06/ProtractorForBeginnersPart1.html\n",
    "\n",
    "\n",
    "\n",
    "###### Angular1 example, lots to learn\n",
    "- http://www.ng-newsletter.com.s3-website-us-east-1.amazonaws.com/posts/practical-protractor.html\n",
    "\n",
    "\n",
    "\n",
    "- Official Tutorial: http://www.protractortest.org/#/tutorial\n",
    "Note: express server running at localhost:3456\n",
    "\n",
    "\n",
    "- Another first test blog: http://www.ng-newsletter.com.s3-website-us-east-1.amazonaws.com/posts/practical-protractor.html\n",
    "\n",
    "\n",
    "\n",
    "- Video (at HOME): https://www.youtube.com/watch?v=aHZRYAIW0B4\n",
    "\n",
    "\n",
    "- Wingify (at WORK): http://engineering.wingify.com/posts/angularapp-e2e-testing-with-protractor/\n",
    "\n",
    "\n",
    "\n",
    "- How to evaluate Angular Expression: http://www.webdriverjs.com/evaluate-angular-object-value-using-protractor/\n",
    "\n",
    "\n",
    "- Convoluted Tutorial (at the END): https://www.3pillarglobal.com/insights/using-the-protractor-automation-tool-to-test-angularjs-applications\n",
    "\n",
    "\n",
    "\n",
    "    \n",
    "   \n",
    "###### TypeScript & Protractor\n",
    "   \n",
    "- TypeScript and Protractor: http://www.diwebsity.com/2016/11/17/protractorjs-typescript-tutorial/#disqus_thread\n",
    "\n",
    "\n",
    "###### Advanced - Evaluate Angular Expression\n",
    "\n",
    "- Protractor in Angular: http://www.webdriverjs.com/evaluate-angular-object-value-using-protractor/\n",
    "\n",
    "\n",
    "###### Screenshot in Protractor\n",
    "\n",
    "- http://www.webdriverjs.com/take-screenshot-every-failed-spec-protractorjasmine/\n",
    "\n",
    "\n",
    "\n",
    "\n",
    "\n",
    "\n",
    "\n",
    "\n",
    "7.\tJasmine Protractor (this and Julie to be the first Tut)\n",
    "http://engineering.wingify.com/posts/e2e-testing-with-webdriverjs-jasmine/\n",
    "\n",
    "11.\tKarma vs Protectron\n",
    "https://stackoverflow.com/questions/21732379/should-i-be-using-protractor-or-karma-for-my-end-to-end-testing\n",
    "\n",
    "12. Jasmine Karma in Angular2\n",
    "http://www.c-sharpcorner.com/article/behavior-driven-development-using-karma-and-jasmine-in-angular-2/\n",
    "\n",
    "\n"
   ]
  },
  {
   "cell_type": "markdown",
   "metadata": {
    "collapsed": true
   },
   "source": [
    "# Protractor Blog\n",
    "\n",
    "- https://www.3pillarglobal.com/insights/using-the-protractor-automation-tool-to-test-angularjs-applications\n",
    "\n"
   ]
  },
  {
   "cell_type": "markdown",
   "metadata": {},
   "source": [
    "----\n",
    "\n",
    "# WebSites built with Angular\n",
    "\n",
    "https://www.eduonix.com/blog/web-programming-tutorials/top-15-websites-and-apps-built-with-angularjs/\n",
    "\n",
    "\n",
    "\n",
    "----"
   ]
  },
  {
   "cell_type": "markdown",
   "metadata": {
    "collapsed": true
   },
   "source": [
    "# Protractor start server\n",
    "\n",
    "\n",
    "http://www.protractortest.org/#/\n",
    "    \n",
    "### Now start up a server with:\n",
    "\n",
    "    webdriver-manager start\n",
    "    \n",
    "\n",
    "- This will start up a Selenium Server and will output a bunch of info logs. Your Protractor test will send requests to this server to control a local browser. You can see information about the status of the server at\n",
    "> http://localhost:4444/wd/hub. "
   ]
  },
  {
   "cell_type": "markdown",
   "metadata": {},
   "source": [
    "# Protractor Tips - Drop-down selection\n",
    "\n",
    "https://stackoverflow.com/questions/19599450/how-to-select-option-in-drop-down-protractorjs-e2e-tests\n",
    "    \n",
    "    \n",
    "    "
   ]
  },
  {
   "cell_type": "markdown",
   "metadata": {
    "collapsed": true
   },
   "source": [
    "# Troubleshoot Protector - Use with non-Angular website\n",
    "\n",
    "\n",
    "### How to use on non-NG sites\n",
    "- https://stackoverflow.com/questions/20927652/how-to-use-protractor-on-non-angularjs-website\n",
    "    \n",
    "    \n",
    "Method 1: Access the webdriver instance directly \n",
    "\n",
    "    browser.driver.get('http://localhost:8000/login.html');    \n",
    "    browser.driver.findElement(by.id('username')).sendKeys('Jane');\n",
    "    browser.driver.findElement(by.id('password')).sendKeys('1234');\n",
    "    browser.driver.findElement(by.id('clickme')).click();\n",
    "\n",
    "\n",
    "Method 2: Ignore Synchronization, Protractor wouldn't wait for Angular loaded and you could use usual element(...) syntax.\n",
    "\n",
    "    browser.ignoreSynchronization = true;    \n",
    "    browser.get('http://localhost:8000/login.html');\n",
    "    element(by.id('username')).sendKeys('Jane');\n",
    "    element(by.id('password')).sendKeys('1234');\n",
    "    element(by.id('clickme')).click();"
   ]
  },
  {
   "cell_type": "markdown",
   "metadata": {
    "collapsed": true
   },
   "source": [
    "# Troubleshoot Protector - Chrome Disable DEV-mode Extensions\n",
    "\n",
    "https://stackoverflow.com/questions/23055651/disable-developer-mode-extensions-pop-up-in-chrome\n",
    "\n",
    "capabilities settings\n",
    "\n",
    "\n",
    "    \n",
    "# Exit with Error Code 1 if test fails\n",
    "\n",
    "https://github.com/angular/protractor/issues/2757\n",
    "\n",
    "\n",
    "    "
   ]
  },
  {
   "cell_type": "markdown",
   "metadata": {
    "collapsed": true
   },
   "source": [
    "# BDD Cucumber\n",
    "\n",
    "\n",
    "- https://github.com/protractor-cucumber-framework/protractor-cucumber-framework\n",
    "    \n",
    "    \n",
    "- https://medium.com/@igniteram/e2e-testing-with-protractor-cucumber-using-typescript-564575814e4a\n",
    "    \n",
    "    "
   ]
  },
  {
   "cell_type": "markdown",
   "metadata": {
    "collapsed": true
   },
   "source": [
    "# Protractor Styleguide\n",
    "\n",
    "Carmen & Andres: https://www.youtube.com/watch?v=-lTGnYwnEuM&t=116s\n",
    "\n",
    "###### Generic Rules\n",
    "\n",
    "1. Do not e2e features done in unit test. Avoid duplicate tests.\n",
    "2. Use one configuration file. Different environment should be handles in the build tools (e.g. grunt protractor coverage)\n",
    "\n",
    "###### Project Structure\n",
    "\n",
    "Separate project folder \"test\":\n",
    "- e2e\n",
    "- unit\n",
    "\n",
    "###### Locator Strategies\n",
    "\n",
    "1. Do not use XPath\n",
    "2. Use Protractor specific locators: byModel, or byBinding... short, specific and easy to understand. These are stabile and rarely break.\n",
    "\n",
    "\n",
    "###### Page Object Model\n",
    "\n",
    "API for your markup\n",
    "\n",
    "1. Encapsulate information about the elements on the page under test.\n",
    "\n",
    "2. Reusable across multiple test suits. If something changed in markup, just update PO.\n",
    "\n",
    "3. Decouple the test logic from implementation details.\n",
    "You're testing the behavior. Changing the markup, as long as you don't change behavior is good.\n",
    "Separates the concern of the implementation details and the test itself.\n",
    "\n",
    "4. Declare One Page Object per file - it keeps code clean and makes things easy to find\n",
    "\n",
    "5. Use Single module.exports at the end of Page Object file. It means there is only one class to export.\n",
    "\n",
    "6. Require and instantiate all the modules at the top. Module dependencies should be clear and easy to find. Separates dependencies from the test code. Makes dependencies available to all specs of the suite.\n",
    "\n",
    "7. Declare all public elements in the constructor. User of PO shoudl have quick access to the available elements on a page\n",
    "\n",
    "\n",
    "\n"
   ]
  },
  {
   "cell_type": "code",
   "execution_count": 2,
   "metadata": {},
   "outputs": [
    {
     "data": {
      "text/plain": [
       "undefined"
      ]
     },
     "execution_count": 2,
     "metadata": {},
     "output_type": "execute_result"
    }
   ],
   "source": [
    "/* AVOID */\n",
    "\n",
    "describe('Question page', function() {\n",
    "    it('should answer any question', function() {\n",
    "        var question = element(by.model('question.text'));\n",
    "        var answer = element(by.binding('answer'));\n",
    "        var button = element(by.css('.question-button'));\n",
    "        \n",
    "        question.sendKeys('What is the purpose of life');\n",
    "        button.click();\n",
    "        expect(answer.getText()).toEqual('Chocolate');        \n",
    "    });    \n",
    "});"
   ]
  },
  {
   "cell_type": "code",
   "execution_count": null,
   "metadata": {
    "collapsed": true
   },
   "outputs": [],
   "source": [
    "/* recommended*/\n",
    "/* question.spec.js*/\n",
    "\n",
    "var QuestionPage = require('./question.page');\n",
    "   \n",
    "describe('Question page', function() {\n",
    "    var question = new QuestionPage();\n",
    "        \n",
    "    it('should answer any question', function() {\n",
    "        question.ask('What is the purpose of life');        \n",
    "        expect(question.answer.getText()).toEqual('Chocolate');        \n",
    "    });    \n",
    "});"
   ]
  },
  {
   "cell_type": "code",
   "execution_count": null,
   "metadata": {
    "collapsed": true
   },
   "outputs": [],
   "source": [
    "/* recommended*/\n",
    "/* question.page.js*/\n",
    "/* Page Object is exposing these elements, and ask service that page provides */\n",
    "\n",
    "\n",
    "var QuestionPage = function() {\n",
    "    this.question = element(by.model('question.text'));\n",
    "    this.answer = element(by.binding('answer'));\n",
    "    this.button = element(by.ClassName('question-button'));\n",
    "    \n",
    "    this.ask = function(question) {\n",
    "        this.question.sendKeys(question);\n",
    "        this.button.click();\n",
    "    };\n",
    "};\n",
    "\n",
    "module.export = QuestionPage;"
   ]
  },
  {
   "cell_type": "code",
   "execution_count": null,
   "metadata": {
    "collapsed": true
   },
   "outputs": [],
   "source": [
    "/* recommended*/\n",
    "/* user.properties.spec.js*/\n",
    "\n",
    "var UserPage = require('./user-properties.page');\n",
    "var MenuPage = require('./menu.page');\n",
    "var FooterPage = require('./footer.page');\n",
    "   \n",
    "describe('User properties page', function() {\n",
    "    var user = new UserPage();\n",
    "    var menu = new MenuPage();\n",
    "    var footer = new FooterPage();    \n",
    "    \n",
    "    // specs\n",
    "    \n",
    "    \n",
    "});"
   ]
  },
  {
   "cell_type": "code",
   "execution_count": null,
   "metadata": {
    "collapsed": true
   },
   "outputs": [],
   "source": []
  },
  {
   "cell_type": "code",
   "execution_count": null,
   "metadata": {
    "collapsed": true
   },
   "outputs": [],
   "source": []
  },
  {
   "cell_type": "code",
   "execution_count": null,
   "metadata": {
    "collapsed": true
   },
   "outputs": [],
   "source": []
  },
  {
   "cell_type": "code",
   "execution_count": null,
   "metadata": {
    "collapsed": true
   },
   "outputs": [],
   "source": []
  },
  {
   "cell_type": "code",
   "execution_count": null,
   "metadata": {
    "collapsed": true
   },
   "outputs": [],
   "source": []
  },
  {
   "cell_type": "code",
   "execution_count": null,
   "metadata": {
    "collapsed": true
   },
   "outputs": [],
   "source": []
  },
  {
   "cell_type": "code",
   "execution_count": null,
   "metadata": {
    "collapsed": true
   },
   "outputs": [],
   "source": []
  },
  {
   "cell_type": "code",
   "execution_count": null,
   "metadata": {
    "collapsed": true
   },
   "outputs": [],
   "source": []
  },
  {
   "cell_type": "code",
   "execution_count": null,
   "metadata": {
    "collapsed": true
   },
   "outputs": [],
   "source": []
  },
  {
   "cell_type": "code",
   "execution_count": null,
   "metadata": {
    "collapsed": true
   },
   "outputs": [],
   "source": []
  },
  {
   "cell_type": "code",
   "execution_count": null,
   "metadata": {
    "collapsed": true
   },
   "outputs": [],
   "source": []
  },
  {
   "cell_type": "code",
   "execution_count": null,
   "metadata": {
    "collapsed": true
   },
   "outputs": [],
   "source": []
  },
  {
   "cell_type": "code",
   "execution_count": null,
   "metadata": {
    "collapsed": true
   },
   "outputs": [],
   "source": []
  },
  {
   "cell_type": "code",
   "execution_count": null,
   "metadata": {
    "collapsed": true
   },
   "outputs": [],
   "source": []
  },
  {
   "cell_type": "code",
   "execution_count": null,
   "metadata": {
    "collapsed": true
   },
   "outputs": [],
   "source": []
  },
  {
   "cell_type": "code",
   "execution_count": null,
   "metadata": {
    "collapsed": true
   },
   "outputs": [],
   "source": []
  },
  {
   "cell_type": "code",
   "execution_count": null,
   "metadata": {
    "collapsed": true
   },
   "outputs": [],
   "source": []
  },
  {
   "cell_type": "code",
   "execution_count": null,
   "metadata": {
    "collapsed": true
   },
   "outputs": [],
   "source": []
  },
  {
   "cell_type": "code",
   "execution_count": null,
   "metadata": {
    "collapsed": true
   },
   "outputs": [],
   "source": []
  },
  {
   "cell_type": "code",
   "execution_count": null,
   "metadata": {
    "collapsed": true
   },
   "outputs": [],
   "source": []
  }
 ],
 "metadata": {
  "kernelspec": {
   "display_name": "Javascript (Node.js)",
   "language": "javascript",
   "name": "javascript"
  },
  "language_info": {
   "file_extension": ".js",
   "mimetype": "application/javascript",
   "name": "javascript",
   "version": "6.11.2"
  }
 },
 "nbformat": 4,
 "nbformat_minor": 2
}
