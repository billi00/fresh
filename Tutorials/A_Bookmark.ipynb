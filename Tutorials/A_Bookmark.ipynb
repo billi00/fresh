{
 "cells": [
  {
   "cell_type": "markdown",
   "metadata": {},
   "source": [
    "# Bookmark\n",
    "\n",
    "## podcast, Algorisky\n",
    "\n",
    "\n",
    "https://irlpodcast.org/episode12/?utm_term=8007&sample_rate=0.001&utm_campaign=IRL12&snippet_name=8007&utm_medium=snippet&utm_content=PRE\n",
    "\n",
    "\n",
    "\n",
    "\n",
    "### JavaScript & Node\n",
    "\n",
    "https://glitch.com/edit/#!/brief-barometer?path=README.md:1:0\n",
    "\n",
    "\n"
   ]
  },
  {
   "cell_type": "markdown",
   "metadata": {},
   "source": [
    "# Python\n",
    "\n",
    "re\n",
    "\n",
    "https://docs.python.org/3/library/re.html\n",
    "\n",
    "\n",
    "find string between two substrings\n",
    "\n",
    "https://stackoverflow.com/questions/3368969/find-string-between-two-substrings\n",
    "\n",
    "\n",
    "\n",
    "os.walk\n",
    "\n",
    "https://docs.python.org/2/library/os.html#os.walk\n",
    "\n",
    "\n",
    "os.rename\n",
    "\n",
    "https://stackoverflow.com/questions/2491222/how-to-rename-a-file-using-python\n",
    "\n",
    "\n",
    "\n",
    "\n",
    "Multi-line Comments\n",
    "\n",
    "https://stackoverflow.com/questions/7696924/way-to-create-multiline-comments-in-python\n",
    "    \n",
    "    \n",
    "https://stackoverflow.com/questions/19318298/how-can-i-block-comment-code-in-the-ipython-notebook\n",
    "\n",
    "\n"
   ]
  },
  {
   "cell_type": "markdown",
   "metadata": {},
   "source": [
    "# Data Science\n",
    "\n",
    "\n",
    "### How to learn Data Science on Kaggle\n",
    "\n",
    "\n",
    "https://www.kaggle.com/getting-started/47860\n",
    "    \n",
    "    \n",
    "    "
   ]
  },
  {
   "cell_type": "markdown",
   "metadata": {},
   "source": [
    "# System\n",
    "\n",
    "wake up pc from tablet\n",
    "\n",
    "\n",
    "https://www.google.ca/search?q=wake+up+pc+from+tablet&ie=utf-8&oe=utf-8&client=firefox-b-ab&gfe_rd=cr&dcr=0&ei=U92tWuGZCI6fX975lMAK#gfe_rd=cr&kpvalbx=0\n",
    "    \n",
    "    \n",
    "    "
   ]
  },
  {
   "cell_type": "code",
   "execution_count": null,
   "metadata": {},
   "outputs": [],
   "source": []
  },
  {
   "cell_type": "code",
   "execution_count": null,
   "metadata": {},
   "outputs": [],
   "source": []
  }
 ],
 "metadata": {
  "kernelspec": {
   "display_name": "Python 3",
   "language": "python",
   "name": "python3"
  },
  "language_info": {
   "codemirror_mode": {
    "name": "ipython",
    "version": 3
   },
   "file_extension": ".py",
   "mimetype": "text/x-python",
   "name": "python",
   "nbconvert_exporter": "python",
   "pygments_lexer": "ipython3",
   "version": "3.6.3"
  }
 },
 "nbformat": 4,
 "nbformat_minor": 2
}
