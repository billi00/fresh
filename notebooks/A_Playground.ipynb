{
 "cells": [
  {
   "cell_type": "markdown",
   "metadata": {},
   "source": [
    "# Playground\n",
    "\n",
    "https://automatetheboringstuff.com/#toc\n",
    "\n",
    "###### join path\n",
    "If you pass it the string values of individual file and folder names in your path, os.path.join() will return a string with a file path using the correct path separators. \n",
    "\n",
    "###### get current working directory\n",
    "You can get the current working directory as a string value with the os.getcwd() function and change it with os.chdir(). \n",
    "\n",
    "###### get path and filename\n",
    "If you need a path’s dir name and base name together, you can just call os.path.split() to get a tuple value with these two strings\n",
    "\n",
    "###### separator\n",
    "\n",
    "Recall from earlier that the os.sep variable is set to the correct folder-separating slash for the computer running the program.\n",
    "\n",
    "\n",
    "\n",
    "https://automatetheboringstuff.com/chapter8/\n",
    "\n"
   ]
  },
  {
   "cell_type": "code",
   "execution_count": 9,
   "metadata": {},
   "outputs": [
    {
     "name": "stdout",
     "output_type": "stream",
     "text": [
      "x/y/z\n",
      "/home/jovyan\n",
      "/\n"
     ]
    }
   ],
   "source": [
    "import os\n",
    "\n",
    "print(os.path.join('x', 'y', 'z'))\n",
    "\n",
    "print(os.getcwd())\n",
    "\n",
    "print(os.sep)\n",
    "\n",
    "# for a, b, c in os.walk(os.getcwd()):\n",
    "#     print(a, b, c)"
   ]
  },
  {
   "cell_type": "code",
   "execution_count": null,
   "metadata": {},
   "outputs": [],
   "source": []
  },
  {
   "cell_type": "code",
   "execution_count": null,
   "metadata": {},
   "outputs": [],
   "source": []
  },
  {
   "cell_type": "code",
   "execution_count": null,
   "metadata": {},
   "outputs": [],
   "source": []
  },
  {
   "cell_type": "code",
   "execution_count": null,
   "metadata": {},
   "outputs": [],
   "source": []
  }
 ],
 "metadata": {
  "kernelspec": {
   "display_name": "Python 3",
   "language": "python",
   "name": "python3"
  },
  "language_info": {
   "codemirror_mode": {
    "name": "ipython",
    "version": 3
   },
   "file_extension": ".py",
   "mimetype": "text/x-python",
   "name": "python",
   "nbconvert_exporter": "python",
   "pygments_lexer": "ipython3",
   "version": "3.6.3"
  }
 },
 "nbformat": 4,
 "nbformat_minor": 2
}
